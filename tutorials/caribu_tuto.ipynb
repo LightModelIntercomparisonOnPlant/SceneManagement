{
 "cells": [
  {
   "cell_type": "code",
   "execution_count": null,
   "metadata": {},
   "outputs": [],
   "source": [
    "import numpy as np\n",
    "from oawidgets.plantgl import PlantGL\n",
    "from alinea.caribu.CaribuScene import CaribuScene\n",
    "\n",
    "from openalea.scenemanagement.convert import *"
   ]
  },
  {
   "cell_type": "code",
   "execution_count": null,
   "metadata": {},
   "outputs": [],
   "source": [
    "file = \"../models/box.gltf\"\n",
    "sc = to_pgl(file, verbose=False)"
   ]
  },
  {
   "cell_type": "code",
   "execution_count": null,
   "metadata": {},
   "outputs": [],
   "source": [
    "PlantGL(sc)"
   ]
  },
  {
   "cell_type": "code",
   "execution_count": null,
   "metadata": {},
   "outputs": [],
   "source": [
    "cscene = CaribuScene(sc, scene_unit='m')\n",
    "raw, agg = cscene.run(direct=True, simplify=True)\n",
    "pgl_scene, values = cscene.plot(raw['Eabs'],display=False)"
   ]
  },
  {
   "cell_type": "code",
   "execution_count": null,
   "metadata": {},
   "outputs": [],
   "source": [
    "v99 = np.percentile(values, 99)\n",
    "nvalues=np.array(values)\n",
    "nvalues[nvalues>v99]=v99\n",
    "values = nvalues.tolist()"
   ]
  },
  {
   "cell_type": "code",
   "execution_count": null,
   "metadata": {},
   "outputs": [],
   "source": [
    "PlantGL(pgl_scene, group_by_color=False, property=values)"
   ]
  }
 ],
 "metadata": {
  "kernelspec": {
   "display_name": "Python 3 (ipykernel)",
   "language": "python",
   "name": "python3"
  },
  "language_info": {
   "codemirror_mode": {
    "name": "ipython",
    "version": 3
   },
   "file_extension": ".py",
   "mimetype": "text/x-python",
   "name": "python",
   "nbconvert_exporter": "python",
   "pygments_lexer": "ipython3",
   "version": "3.12.3"
  }
 },
 "nbformat": 4,
 "nbformat_minor": 4
}
